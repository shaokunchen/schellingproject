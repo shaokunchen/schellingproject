{
 "cells": [
  {
   "cell_type": "code",
   "execution_count": 150,
   "metadata": {},
   "outputs": [],
   "source": [
    "import matplotlib.pyplot as plt\n",
    "import itertools\n",
    "import random\n",
    "import copy\n",
    "import numpy as np"
   ]
  },
  {
   "cell_type": "code",
   "execution_count": 487,
   "metadata": {
    "slideshow": {
     "slide_type": "slide"
    }
   },
   "outputs": [
    {
     "data": {
      "image/png": "[encoded data removed]",
      "text/plain": [
       "<Figure size 432x288 with 1 Axes>"
      ]
     },
     "metadata": {
      "needs_background": "light"
     },
     "output_type": "display_data"
    },
    {
     "data": {
      "image/png": "[encoded data removed]",
      "text/plain": [
       "<Figure size 432x288 with 1 Axes>"
      ]
     },
     "metadata": {
      "needs_background": "light"
     },
     "output_type": "display_data"
    },
    {
     "name": "stdout",
     "output_type": "stream",
     "text": [
      "Number of iterations: 4\n"
     ]
    }
   ],
   "source": [
    "class Schelling:\n",
    "    \n",
    "    \n",
    "    def __init__(self, width, height, empty_ratio, similarity_threshold, n_iterations, races): # this is the constructor method, add all the arguments of this method as specified in the instructions\n",
    "        # add attributes here:\n",
    "        self.width=width\n",
    "        self.height=height\n",
    "        self.empty_ratio=empty_ratio\n",
    "        self.similarity_threshold=similarity_threshold\n",
    "        self.n_iterations=n_iterations\n",
    "        self.races=races\n",
    "        \n",
    "    # Write a method called populate which can be used to create an initial distribution of people in the grid.\n",
    "    def populate(self):\n",
    "    \n",
    "        # create new attribute  self.empty_houses as an empty list, self.agents as an empty dictionary.\n",
    "        self.empty_houses=[]\n",
    "        self.agents={}\n",
    "        # create a new attribute self.all_houses as a list of all houses\n",
    "        self.all_houses=list(itertools.product(range(self.width), range(self.height)))\n",
    "        # the method randomises the allocation of houses\n",
    "        random.shuffle(self.all_houses)\n",
    "        #the method creates a new attribute self.n_empty which is derived as the number of the empty houses (this is calculated by using the self.empty_ratio and the number of houses in the city ) \n",
    "        self.n_empty= int(self.empty_ratio*len(self.all_houses))\n",
    "        #the method sets the empty_houses to be the last self.n_empty houses\n",
    "        self.empty_house=self.all_houses[-self.n_empty:]\n",
    "        #the remaining houses are assigned to self.remaining_houses\n",
    "        self.remaining_houses=self.all_houses[:-self.n_empty]\n",
    "        #we use self.remaining_houses to assign races to each house, creating a variable called houses_by_races\n",
    "        # Made a list of races iterated so that I can assign a value to each house\n",
    "        race_list= list(range(0,int(self.races)))*(1+int(len(self.remaining_houses)/self.races))\n",
    "        house_by_races= zip(self.remaining_houses,race_list)\n",
    "        #we fill the dictionary self.agents with the house_by_race in which each agent lives (hint: use zip and the update method for dictionaries.\n",
    "        self.agents.update(house_by_races)\n",
    "        #print (self.agents)\n",
    "    #Write a method called is_unsatisfied which evaluates if a specific cell in the grid is satisfied with the location or not.\n",
    "    def is_unsatisfied(self,a,b):\n",
    "        l1=[(-1,-1),(-1,0),(-1,+1),(0,+1),(0,+1),(+1,-1),(+1,0),(+1,+1)] #this added to the selected house's coordinates (a,b) gives the coordinates of all of the surrounding houses\n",
    "        same_race=0\n",
    "        different_race=0\n",
    "        for x,y in l1:\n",
    "            x=x+a\n",
    "            y=y+b \n",
    "            if (x,y) in self.remaining_houses:#check if empty\n",
    "                if self.agents[(x,y)]==self.agents[(a,b)]:\n",
    "                    same_race=same_race+1 #count this house as a house of the same race\n",
    "                else:\n",
    "                    different_race=different_race+1\n",
    "                    \n",
    "        if same_race+different_race!=0:\n",
    "            if same_race/(same_race+different_race)>= self.similarity_threshold:\n",
    "                return False\n",
    "            if same_race/(same_race+different_race)<self.similarity_threshold:\n",
    "                return True\n",
    "        else:\n",
    "            return True\n",
    "    #D. Write a method called update which checks each cell in the grid, verifies if it is satisfied or not, and if not it moves it to a random empty cell.\n",
    "    #This method checks if each agent is unsatisfied, and in that case, it fills a randomly chosen empty house with it. Important: remember to remove the location of the emptied house from self.agents and add it to self.empty_houses!\n",
    "    def update(self):\n",
    "        #move all unsatisfied houses into an empty house\n",
    "        #make a list with all the unsatisfied houses and then run through list to assign them to empty houses\n",
    "        unsatisfied_house=[]\n",
    "        number_of_changes=0\n",
    "        for x in range(width):\n",
    "            for y in range(height):\n",
    "                if (x,y) in self.remaining_houses:\n",
    "                    if self.is_unsatisfied(x,y)== True:\n",
    "                        random_empty_house=random.choice(self.empty_house) #choose a random empty house from list of empty houses\n",
    "                        race= self.agents[(x,y)] #pick out the unsatisfied house's race\n",
    "                        self.empty_house.remove(random_empty_house) #remove this random empty house from list of empty houses\n",
    "                        self.empty_house.append((x,y)) #add the emptied house into empty house list\n",
    "                        del self.agents[(x,y)]#delete the emptied house from list of agents\n",
    "                        self.remaining_houses.remove((x,y))\n",
    "                        self.remaining_houses.append(random_empty_house) #add the empty house with the new person into agent list with their race\n",
    "                        self.agents[random_empty_house]=race\n",
    "                        #reassign unsatisfied house to random empty house and assign the same race to the new location in agent dictionary\n",
    "                        #remove the emptied house from list of agents and add it to the empty house list\n",
    "                        number_of_changes=number_of_changes+1\n",
    "        return number_of_changes\n",
    "\n",
    "                    \n",
    "    #E. Write a method called plot_city which plots the city \n",
    "    #with all the empty and occupied houses with the right colours.\n",
    "    #The method plot_city sets up the parameters for the graph, \n",
    "    #and spits out fig and ax objects (matplotlib). \n",
    "    #Notice that we need to set xticks and yticks of the grid, and the grid itself\n",
    "    #The grid should have the dimension indicated by width and height attributes. \n",
    "    #Consider a scatter plot with square markers (also important to determine the right size for them)\n",
    "    def plot_city(self):\n",
    "        agent_colour={1:'b',2:'r',3:'g',4:'c',5:'m',6:'y',7:'k'}\n",
    "        \n",
    "        for individual in self.agents:\n",
    "            race=self.agents[(individual[0],individual[1])]+1\n",
    "            plt.scatter(individual[0]+0.5,individual[1]+0.5, marker='s', s=max(self.width,self.height)**2,c=agent_colour[race])\n",
    "        plt.xlim(0,self.width)\n",
    "        plt.ylim(0,self.height)\n",
    "        plt.grid()\n",
    "        plt.xticks(np.arange(0,self.width))\n",
    "        plt.yticks(np.arange(0,self.height))\n",
    "        plt.show()\n",
    "        #plt.savefig('interations'iterations))\n",
    "        \n",
    "###10 by 10 grid, empty house ratio=0.2, tolerance level=0.7, 10000 iterations, 2 races        \n",
    "def main(): \n",
    "    Schelling_test= Schelling(20, 20, 0.2,0.4,1000,3)\n",
    "    Schelling_test.populate()\n",
    "    number_of_changes1 = Schelling_test.update()\n",
    "    Schelling_test.plot_city()\n",
    "    iterations=0\n",
    "    while number_of_changes1 != 0 and iterations < Schelling_test.n_iterations:\n",
    "        #print (number_of_changes1)\n",
    "        number_of_changes1=Schelling_test.update()\n",
    "        iterations=iterations+1\n",
    "    \n",
    "    Schelling_test.plot_city()\n",
    "    print ('Number of iterations:',iterations)\n",
    "    \n",
    "\n",
    "    \n",
    "\n",
    "    \n",
    "if __name__=='__main__':\n",
    "    main()\n",
    "            \n",
    "        \n",
    "    \n",
    "        \n",
    "        "
   ]
  },
  {
   "cell_type": "code",
   "execution_count": null,
   "metadata": {},
   "outputs": [],
   "source": []
  },
  {
   "cell_type": "code",
   "execution_count": null,
   "metadata": {},
   "outputs": [],
   "source": []
  },
  {
   "cell_type": "code",
   "execution_count": null,
   "metadata": {},
   "outputs": [],
   "source": []
  },
  {
   "cell_type": "code",
   "execution_count": null,
   "metadata": {},
   "outputs": [],
   "source": []
  },
  {
   "cell_type": "code",
   "execution_count": null,
   "metadata": {
    "scrolled": true
   },
   "outputs": [],
   "source": [
    "\n"
   ]
  },
  {
   "cell_type": "code",
   "execution_count": 358,
   "metadata": {
    "scrolled": true
   },
   "outputs": [
    {
     "name": "stdout",
     "output_type": "stream",
     "text": [
      "{(6, 3): 0, (5, 9): 1, (5, 0): 0, (7, 8): 1, (8, 2): 0, (6, 5): 1, (2, 9): 0, (3, 1): 1, (9, 0): 0, (4, 5): 1, (8, 9): 0, (8, 1): 1, (6, 6): 0, (1, 8): 1, (7, 7): 0, (1, 6): 1, (0, 0): 0, (8, 8): 1, (3, 2): 0, (0, 6): 1, (8, 4): 0, (9, 6): 1, (2, 7): 0, (3, 3): 1, (7, 6): 0, (2, 0): 1, (1, 4): 0, (9, 1): 1, (9, 4): 0, (5, 3): 1, (4, 2): 0, (5, 6): 1, (0, 5): 0, (7, 0): 1, (7, 1): 0, (6, 1): 1, (4, 7): 0, (9, 5): 1, (1, 0): 0, (9, 3): 1, (3, 7): 0, (4, 0): 1, (4, 9): 0, (3, 5): 1, (8, 3): 0, (0, 1): 1, (6, 2): 0, (3, 6): 1, (1, 2): 0, (8, 7): 1, (6, 0): 0, (5, 7): 1, (1, 9): 0, (4, 4): 1, (7, 3): 0, (5, 4): 1, (2, 2): 0, (8, 0): 1, (6, 9): 0, (0, 4): 1, (8, 5): 0, (4, 8): 1, (2, 1): 0, (7, 2): 1, (2, 3): 0, (5, 5): 1, (9, 8): 0, (9, 2): 1, (1, 5): 0, (0, 7): 1, (5, 8): 0, (0, 2): 1, (3, 9): 0, (3, 0): 1, (3, 8): 0, (1, 1): 1, (2, 4): 0, (0, 9): 1, (4, 3): 0, (5, 1): 1, (7, 9): 0, (9, 9): 1, (8, 6): 0, (2, 8): 1, (1, 7): 0, (4, 1): 1, (2, 6): 0, (6, 7): 1, (2, 5): 0, (9, 7): 1}\n"
     ]
    },
    {
     "ename": "KeyError",
     "evalue": "(3, 4)",
     "output_type": "error",
     "traceback": [
      "\u001b[0;31m---------------------------------------------------------------------------\u001b[0m",
      "\u001b[0;31mKeyError\u001b[0m                                  Traceback (most recent call last)",
      "\u001b[0;32m<ipython-input-358-d253ba8748be>\u001b[0m in \u001b[0;36m<module>\u001b[0;34m\u001b[0m\n\u001b[1;32m      4\u001b[0m \u001b[0mSchelling_test\u001b[0m\u001b[0;34m.\u001b[0m\u001b[0mpopulate\u001b[0m\u001b[0;34m(\u001b[0m\u001b[0;34m)\u001b[0m\u001b[0;34m\u001b[0m\u001b[0;34m\u001b[0m\u001b[0m\n\u001b[1;32m      5\u001b[0m \u001b[0;31m# Schelling_test.is_unsatisfied(0,1)\u001b[0m\u001b[0;34m\u001b[0m\u001b[0;34m\u001b[0m\u001b[0;34m\u001b[0m\u001b[0m\n\u001b[0;32m----> 6\u001b[0;31m \u001b[0mSchelling_test\u001b[0m\u001b[0;34m.\u001b[0m\u001b[0mplot_city\u001b[0m\u001b[0;34m(\u001b[0m\u001b[0;34m)\u001b[0m\u001b[0;34m\u001b[0m\u001b[0;34m\u001b[0m\u001b[0m\n\u001b[0m",
      "\u001b[0;32m<ipython-input-356-50d964c760eb>\u001b[0m in \u001b[0;36mplot_city\u001b[0;34m(self)\u001b[0m\n\u001b[1;32m     89\u001b[0m     \u001b[0;32mdef\u001b[0m \u001b[0mplot_city\u001b[0m\u001b[0;34m(\u001b[0m\u001b[0mself\u001b[0m\u001b[0;34m)\u001b[0m\u001b[0;34m:\u001b[0m\u001b[0;34m\u001b[0m\u001b[0;34m\u001b[0m\u001b[0m\n\u001b[1;32m     90\u001b[0m         \u001b[0magent_colour\u001b[0m\u001b[0;34m=\u001b[0m\u001b[0;34m{\u001b[0m\u001b[0;36m0\u001b[0m\u001b[0;34m:\u001b[0m\u001b[0;34m'b'\u001b[0m\u001b[0;34m,\u001b[0m\u001b[0;36m1\u001b[0m\u001b[0;34m:\u001b[0m\u001b[0;34m'r'\u001b[0m\u001b[0;34m,\u001b[0m\u001b[0;36m2\u001b[0m\u001b[0;34m:\u001b[0m\u001b[0;34m'g'\u001b[0m\u001b[0;34m,\u001b[0m\u001b[0;36m3\u001b[0m\u001b[0;34m:\u001b[0m\u001b[0;34m'c'\u001b[0m\u001b[0;34m,\u001b[0m\u001b[0;36m4\u001b[0m\u001b[0;34m:\u001b[0m\u001b[0;34m'm'\u001b[0m\u001b[0;34m,\u001b[0m\u001b[0;36m5\u001b[0m\u001b[0;34m:\u001b[0m\u001b[0;34m'y'\u001b[0m\u001b[0;34m,\u001b[0m\u001b[0;36m6\u001b[0m\u001b[0;34m:\u001b[0m\u001b[0;34m'k'\u001b[0m\u001b[0;34m}\u001b[0m\u001b[0;34m\u001b[0m\u001b[0;34m\u001b[0m\u001b[0m\n\u001b[0;32m---> 91\u001b[0;31m         \u001b[0mrace\u001b[0m\u001b[0;34m=\u001b[0m\u001b[0mself\u001b[0m\u001b[0;34m.\u001b[0m\u001b[0magents\u001b[0m\u001b[0;34m[\u001b[0m\u001b[0;34m(\u001b[0m\u001b[0mx\u001b[0m\u001b[0;34m,\u001b[0m\u001b[0my\u001b[0m\u001b[0;34m)\u001b[0m\u001b[0;34m]\u001b[0m\u001b[0;34m\u001b[0m\u001b[0;34m\u001b[0m\u001b[0m\n\u001b[0m\u001b[1;32m     92\u001b[0m         \u001b[0;32mfor\u001b[0m \u001b[0mindividual\u001b[0m \u001b[0;32min\u001b[0m \u001b[0mself\u001b[0m\u001b[0;34m.\u001b[0m\u001b[0magents\u001b[0m\u001b[0;34m:\u001b[0m\u001b[0;34m\u001b[0m\u001b[0;34m\u001b[0m\u001b[0m\n\u001b[1;32m     93\u001b[0m             \u001b[0mplt\u001b[0m\u001b[0;34m.\u001b[0m\u001b[0mscatter\u001b[0m\u001b[0;34m(\u001b[0m\u001b[0mindividual\u001b[0m\u001b[0;34m[\u001b[0m\u001b[0;36m0\u001b[0m\u001b[0;34m]\u001b[0m\u001b[0;34m+\u001b[0m\u001b[0;36m0.5\u001b[0m\u001b[0;34m,\u001b[0m\u001b[0mindividual\u001b[0m\u001b[0;34m[\u001b[0m\u001b[0;36m1\u001b[0m\u001b[0;34m]\u001b[0m\u001b[0;34m+\u001b[0m\u001b[0;36m0.5\u001b[0m\u001b[0;34m,\u001b[0m \u001b[0mmarker\u001b[0m\u001b[0;34m=\u001b[0m\u001b[0;34m's'\u001b[0m\u001b[0;34m,\u001b[0m \u001b[0ms\u001b[0m\u001b[0;34m=\u001b[0m\u001b[0mmax\u001b[0m\u001b[0;34m(\u001b[0m\u001b[0mself\u001b[0m\u001b[0;34m.\u001b[0m\u001b[0mwidth\u001b[0m\u001b[0;34m,\u001b[0m\u001b[0mself\u001b[0m\u001b[0;34m.\u001b[0m\u001b[0mheight\u001b[0m\u001b[0;34m)\u001b[0m\u001b[0;34m**\u001b[0m\u001b[0;36m2\u001b[0m\u001b[0;34m,\u001b[0m\u001b[0mc\u001b[0m\u001b[0;34m=\u001b[0m\u001b[0magent_colour\u001b[0m\u001b[0;34m[\u001b[0m\u001b[0mrace\u001b[0m\u001b[0;34m]\u001b[0m\u001b[0;34m)\u001b[0m\u001b[0;34m\u001b[0m\u001b[0;34m\u001b[0m\u001b[0m\n",
      "\u001b[0;31mKeyError\u001b[0m: (3, 4)"
     ]
    }
   ],
   "source": [
    "#test block\n",
    "#initialising an object with the attributes \n",
    "Schelling_test= Schelling(10, 10, 0.1,0.4,1,2)\n",
    "Schelling_test.populate()\n",
    "# Schelling_test.is_unsatisfied(0,1)\n",
    "Schelling_test.plot_city()\n"
   ]
  },
  {
   "cell_type": "code",
   "execution_count": 479,
   "metadata": {},
   "outputs": [],
   "source": [
    "def plot_city(w, h):\n",
    "    plt.plot(w,h)\n",
    "    "
   ]
  },
  {
   "cell_type": "code",
   "execution_count": 480,
   "metadata": {
    "scrolled": true
   },
   "outputs": [
    {
     "data": {
      "image/png": "[encoded data removed]",
      "text/plain": [
       "<Figure size 432x288 with 1 Axes>"
      ]
     },
     "metadata": {
      "needs_background": "light"
     },
     "output_type": "display_data"
    }
   ],
   "source": [
    "x=3\n",
    "y=4\n",
    "plt.plot(x,y)\n",
    "plt.show()"
   ]
  },
  {
   "cell_type": "code",
   "execution_count": 481,
   "metadata": {},
   "outputs": [
    {
     "name": "stdout",
     "output_type": "stream",
     "text": [
      "[(0, 0), (0, 1), (0, 2), (0, 3), (0, 4), (0, 5), (0, 6), (0, 7), (0, 8), (0, 9), (1, 0), (1, 1), (1, 2), (1, 3), (1, 4), (1, 5), (1, 6), (1, 7), (1, 8), (1, 9), (2, 0), (2, 1), (2, 2), (2, 3), (2, 4), (2, 5), (2, 6), (2, 7), (2, 8), (2, 9), (3, 0), (3, 1), (3, 2), (3, 3), (3, 4), (3, 5), (3, 6), (3, 7), (3, 8), (3, 9), (4, 0), (4, 1), (4, 2), (4, 3), (4, 4), (4, 5), (4, 6), (4, 7), (4, 8), (4, 9), (5, 0), (5, 1), (5, 2), (5, 3), (5, 4), (5, 5), (5, 6), (5, 7), (5, 8), (5, 9), (6, 0), (6, 1), (6, 2), (6, 3), (6, 4), (6, 5), (6, 6), (6, 7), (6, 8), (6, 9), (7, 0), (7, 1), (7, 2), (7, 3), (7, 4), (7, 5), (7, 6), (7, 7), (7, 8), (7, 9), (8, 0), (8, 1), (8, 2), (8, 3), (8, 4), (8, 5), (8, 6), (8, 7), (8, 8), (8, 9), (9, 0), (9, 1), (9, 2), (9, 3), (9, 4), (9, 5), (9, 6), (9, 7), (9, 8), (9, 9)] \n",
      " [(9, 7), (9, 8), (9, 9)] \n",
      " [(0, 0), (0, 1), (0, 2), (0, 3), (0, 4), (0, 5), (0, 6), (0, 7), (0, 8), (0, 9), (1, 0), (1, 1), (1, 2), (1, 3), (1, 4), (1, 5), (1, 6), (1, 7), (1, 8), (1, 9), (2, 0), (2, 1), (2, 2), (2, 3), (2, 4), (2, 5), (2, 6), (2, 7), (2, 8), (2, 9), (3, 0), (3, 1), (3, 2), (3, 3), (3, 4), (3, 5), (3, 6), (3, 7), (3, 8), (3, 9), (4, 0), (4, 1), (4, 2), (4, 3), (4, 4), (4, 5), (4, 6), (4, 7), (4, 8), (4, 9), (5, 0), (5, 1), (5, 2), (5, 3), (5, 4), (5, 5), (5, 6), (5, 7), (5, 8), (5, 9), (6, 0), (6, 1), (6, 2), (6, 3), (6, 4), (6, 5), (6, 6), (6, 7), (6, 8), (6, 9), (7, 0), (7, 1), (7, 2), (7, 3), (7, 4), (7, 5), (7, 6), (7, 7), (7, 8), (7, 9), (8, 0), (8, 1), (8, 2), (8, 3), (8, 4), (8, 5), (8, 6), (8, 7), (8, 8), (8, 9), (9, 0), (9, 1), (9, 2), (9, 3), (9, 4), (9, 5), (9, 6)]\n",
      "97\n"
     ]
    },
    {
     "data": {
      "image/png": "[encoded data removed]",
      "text/plain": [
       "<Figure size 432x288 with 1 Axes>"
      ]
     },
     "metadata": {
      "needs_background": "light"
     },
     "output_type": "display_data"
    }
   ],
   "source": [
    "import itertools\n",
    "agent={}\n",
    "width=10\n",
    "height=10\n",
    "empty=3\n",
    "race=2\n",
    "all_houses=list(itertools.product(range(width), range(height)))\n",
    "empty_houses=all_houses[-empty:]\n",
    "\n",
    "rest_of_houses=all_houses[:-empty]\n",
    "print (all_houses,'\\n', empty_houses,'\\n',rest_of_houses)\n",
    "print (len(rest_of_houses))\n",
    "a=list(range(0,int(race)))*int(len(rest_of_houses)/race)\n",
    "house_by_races=zip(rest_of_houses,a)\n",
    "agent.update(house_by_races)\n",
    "agent\n",
    "\n",
    "for individual in agent:\n",
    "    plt.scatter(individual[0]+0.5,individual[1]+0.5, marker='s',s=max(width,height)**2,linestyle='-')\n",
    "    \n",
    "plt.xlim(0,width)\n",
    "plt.ylim(0,height)\n",
    "plt.grid()\n",
    "plt.xticks(np.arange(0,int(width)))\n",
    "plt.yticks(np.arange(0,int(height)))\n",
    "plt.show()\n",
    "    \n"
   ]
  },
  {
   "cell_type": "code",
   "execution_count": null,
   "metadata": {},
   "outputs": [],
   "source": []
  }
 ],
 "metadata": {
  "celltoolbar": "Slideshow",
  "kernelspec": {
   "display_name": "Python 3",
   "language": "python",
   "name": "python3"
  },
  "language_info": {
   "codemirror_mode": {
    "name": "ipython",
    "version": 3
   },
   "file_extension": ".py",
   "mimetype": "text/x-python",
   "name": "python",
   "nbconvert_exporter": "python",
   "pygments_lexer": "ipython3",
   "version": "3.6.9"
  }
 },
 "nbformat": 4,
 "nbformat_minor": 2
}
